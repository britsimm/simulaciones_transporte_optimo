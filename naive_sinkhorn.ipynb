{
 "cells": [
  {
   "cell_type": "markdown",
   "metadata": {},
   "source": [
    "---\n",
    "\n",
    "#### Este notebook contiene una implementación ingenua del algoritmo de Sinkhorn\n",
    "\n",
    "---"
   ]
  },
  {
   "cell_type": "code",
   "execution_count": 58,
   "metadata": {},
   "outputs": [],
   "source": [
    "import numpy as np\n",
    "import matplotlib.pyplot as plt\n",
    "from scipy.spatial.distance import cdist\n",
    "\n",
    "\n",
    "def Sinkhorn_Knopp(mu, nu, C, reg = 1e-1, iteraciones_maximas = 1e10, error_minimo=1e-1):\n",
    "    '''\n",
    "    Esta función realiza el algoritmo de sinkhorn-Knopp para calcular\n",
    "    la solución al problema de transporte óptimo (Kantorovich) regularizado.\n",
    "\n",
    "    input:\n",
    "            mu:  Distribución source\n",
    "            nu:  Distribución target\n",
    "            C:   Matriz de costo\n",
    "            reg: Factor de regularización\n",
    "            iteraciones_maximas: Cantidad máxima de iteraciones\n",
    "            error_minimo: Error minimimo a partir del cual se considera \"buena\" la solución\n",
    "    \n",
    "    output: \n",
    "            T: Matriz de transporte\n",
    "            error: Error obtenido con T\n",
    "    '''\n",
    "   \n",
    "    v = np.ones_like(mu)\n",
    "    xi = np.exp(- C / reg)\n",
    "    \n",
    "    error = 1\n",
    "\n",
    "    iteraciones = 0\n",
    "    # A continuación cominenza el proceso iterativo\n",
    "    while error > error_minimo:\n",
    "        u = np.divide(mu, np.dot(xi.T, v))\n",
    "        v = np.divide(nu, np.dot(xi, u))\n",
    "\n",
    "        # Medimos que tan lejos está T de mu y T de nu\n",
    "        diag_u = np.diag(u)\n",
    "        diag_v = np.diag(v)\n",
    "        T = np.dot(np.dot(diag_u, xi), diag_v)\n",
    "\n",
    "        error = np.linalg.norm(T.sum(axis=1) - mu, 1) + np.linalg.norm(T.sum(axis=0) - nu, 1)\n",
    "\n",
    "        iteraciones += 1\n",
    "\n",
    "        if iteraciones % 1000 == 0: \n",
    "            print(f\"Iteración {iteraciones}, Error {error}\")\n",
    "\n",
    "        if iteraciones > iteraciones_maximas:\n",
    "            print(f\"Límite de iteraciones, error alcanzado: {error}\")\n",
    "            break\n",
    "        \n",
    "    return T, error\n",
    "\n",
    "\n",
    "def plot_transporte(mu, nu, T, threshold=1e-8):\n",
    "    '''  \n",
    "    Función para plotear el transporte óptimo en el caso de distribuciones bidimensionales\n",
    "\n",
    "    input:\n",
    "            mu:  Distribución source\n",
    "            nu:  Distribución target\n",
    "            T:   Matriz de transporte\n",
    "            tthreshold: límite al partir del cual no graficamos el segmento\n",
    "    \n",
    "    output: \n",
    "            T: Matriz de transporte\n",
    "            error: Error obtenido con T\n",
    "    '''\n",
    "\n",
    "    plt.figure(figsize=(12, 8))\n",
    "\n",
    "    # Puntos\n",
    "    plt.scatter(mu[:, 0], mu[:, 1], label='mu', color='blue')\n",
    "    plt.scatter(nu[:, 0], nu[:, 1], label='nu', color='red')\n",
    "\n",
    "    # Segmentos\n",
    "    mx = T.max()\n",
    "    for i in range(nu.shape[0]):\n",
    "        for j in range(mu.shape[0]):\n",
    "            if T[i, j] / mx > threshold:\n",
    "                plt.plot([nu[i, 0], mu[j, 0]], [nu[i, 1], mu[j, 1]],\n",
    "                        alpha = T[i, j] / mx, color='black')\n"
   ]
  },
  {
   "cell_type": "markdown",
   "metadata": {},
   "source": [
    "Prueba simple"
   ]
  },
  {
   "cell_type": "code",
   "execution_count": 4,
   "metadata": {},
   "outputs": [
    {
     "data": {
      "text/plain": [
       "array([0., 0., 0., 1., 1.])"
      ]
     },
     "execution_count": 4,
     "metadata": {},
     "output_type": "execute_result"
    }
   ],
   "source": [
    "mu = np.array([1, 1, 0, 0, 0])\n",
    "nu = np.array([0, 0, 0, 1, 1])\n",
    "\n",
    "C = (mu[:, np.newaxis] - nu)**2\n",
    "\n",
    "\n",
    "T, err = Sinkhorn_Knopp(mu, nu, C, 1e-1, 2)\n",
    "\n",
    "np.dot(T.T, mu)\n",
    "\n",
    "\n"
   ]
  },
  {
   "cell_type": "code",
   "execution_count": 44,
   "metadata": {},
   "outputs": [
    {
     "data": {
      "image/png": "[encoded data removed]",
      "text/plain": [
       "<Figure size 800x600 with 1 Axes>"
      ]
     },
     "metadata": {},
     "output_type": "display_data"
    }
   ],
   "source": [
    "mu = np.zeros((5, 2))\n",
    "mu[:, 0] = np.array([1, 1, 0, 0, 0])\n",
    "mu[:, 1] = np.array(([0, 1, 2, 3, 4]))\n",
    "\n",
    "nu = np.zeros((5, 2))\n",
    "nu[:, 0] = np.array([0, 0, 0, 1, 1])\n",
    "nu[:, 1] = np.array(([0, 1, 2, 3, 4]))\n",
    "\n",
    "# Plot the points\n",
    "plt.figure(figsize=(8, 6))\n",
    "plt.scatter(mu[:, 0], mu[:, 1], label='mu', color='blue')\n",
    "plt.scatter(nu[:, 0], nu[:, 1], label='nu', color='red')\n",
    "\n",
    "\n",
    "C = cdist(mu, nu, 'euclidean')\n"
   ]
  },
  {
   "cell_type": "code",
   "execution_count": 51,
   "metadata": {},
   "outputs": [
    {
     "name": "stdout",
     "output_type": "stream",
     "text": [
      "Límite de iteraciones, error alcanzado: 0.18485459975258176\n"
     ]
    },
    {
     "data": {
      "text/plain": [
       "array([[1.98896019e-01, 8.69976288e-03, 3.55406655e-07, 3.96745319e-10,\n",
       "        1.74772864e-14],\n",
       "       [1.10398041e-03, 1.91274019e-01, 4.60506594e-04, 3.05280141e-06,\n",
       "        1.34480943e-10],\n",
       "       [8.38357602e-10, 5.08349143e-05, 1.69665456e-01, 2.83950632e-07,\n",
       "        7.42816387e-11],\n",
       "       [4.19042365e-10, 2.54091842e-05, 8.48051164e-02, 1.96753710e-01,\n",
       "        3.03335539e-03],\n",
       "       [1.96279914e-14, 1.19016904e-09, 3.97228116e-06, 3.22536619e-03,\n",
       "        1.96966644e-01]])"
      ]
     },
     "execution_count": 51,
     "metadata": {},
     "output_type": "execute_result"
    }
   ],
   "source": [
    "mu_d = np.ones(mu.shape[0]) / mu.shape[0]\n",
    "nu_d = np.ones(nu.shape[0]) / nu.shape[0]\n",
    "T, err = Sinkhorn_Knopp(mu_d, nu_d, C, 1e-1, 2)\n",
    "\n"
   ]
  },
  {
   "cell_type": "code",
   "execution_count": 59,
   "metadata": {},
   "outputs": [
    {
     "data": {
      "image/png": "[encoded data removed]",
      "text/plain": [
       "<Figure size 1200x800 with 1 Axes>"
      ]
     },
     "metadata": {},
     "output_type": "display_data"
    }
   ],
   "source": [
    "plot_transporte(mu, nu, T, threshold=1e-8)"
   ]
  }
 ],
 "metadata": {
  "kernelspec": {
   "display_name": "Python 3",
   "language": "python",
   "name": "python3"
  },
  "language_info": {
   "codemirror_mode": {
    "name": "ipython",
    "version": 3
   },
   "file_extension": ".py",
   "mimetype": "text/x-python",
   "name": "python",
   "nbconvert_exporter": "python",
   "pygments_lexer": "ipython3",
   "version": "3.10.12"
  }
 },
 "nbformat": 4,
 "nbformat_minor": 2
}
